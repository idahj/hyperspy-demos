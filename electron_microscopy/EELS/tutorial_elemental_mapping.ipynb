{
 "cells": [
  {
   "cell_type": "markdown",
   "metadata": {},
   "source": [
    "# Creating and plotting elemental maps\n",
    "In this tutorial, elemental maps of copper and zinc will be created from electron energy loss spectra (EELS). The data is recorded using a sample of copper and zinc oxide deposited on carbon nanotubes. The particles are likely to be very small, and the carbon is not completely covered. In this sample, the ratio of Zn and Cu is 3:1, and approximately 80 wt% of the sample is carbon. Due to the small amount of copper and zinc, the signal strength is low. To improve the signal strength without lowering the spatial resolution, the spectra were recorded with a high energy dispersion, resulting in low energy resolution. This means that any fine structure is not visible, and Hartree-Slater cross sections will be used to fit Cu and Zn. \n",
    "\n",
    "This notebook requires HyperSpy 1.3 or higher.\n",
    "\n",
    "The main objective is to show how the functionality of HyperSpy can be used to create elemental maps from EEL sepctra. "
   ]
  },
  {
   "cell_type": "markdown",
   "metadata": {},
   "source": [
    "### Changes\n",
    "\n",
    "2017/09/27: Initial version by Ida Hjorth"
   ]
  },
  {
   "cell_type": "markdown",
   "metadata": {},
   "source": [
    "### Table of contents"
   ]
  },
  {
   "cell_type": "markdown",
   "metadata": {},
   "source": [
    "1. <a href='#load'> Load data</a> \n",
    "2. <a href='#background'> Background removal</a>\n",
    "3. <a href='#fitting'>Fitting Cu and Zn Hartree-Slater cross sections</a>\n",
    "4. <a href='#save_restore'>Saving and restoring the model</a>\n",
    "5. <a href='#plotting'>Creating elemental maps from the model</a>"
   ]
  },
  {
   "cell_type": "markdown",
   "metadata": {},
   "source": [
    "# <a id='load'></a>1. Load data"
   ]
  },
  {
   "cell_type": "code",
   "execution_count": null,
   "metadata": {},
   "outputs": [],
   "source": [
    "%matplotlib nbagg\n",
    "import numpy as np\n",
    "import hyperspy.api as hs"
   ]
  },
  {
   "cell_type": "code",
   "execution_count": null,
   "metadata": {
    "collapsed": true
   },
   "outputs": [],
   "source": [
    "s_eels = hs.load('tutorial_elemental_mapping_datasets/EELS_mapping_tutorial.hspy')"
   ]
  },
  {
   "cell_type": "markdown",
   "metadata": {},
   "source": [
    "The data has to be in 64-bit float for the PCA to work in HyperSpy."
   ]
  },
  {
   "cell_type": "code",
   "execution_count": null,
   "metadata": {},
   "outputs": [],
   "source": [
    "s_eels.change_dtype('float64')\n"
   ]
  },
  {
   "cell_type": "markdown",
   "metadata": {
    "collapsed": true
   },
   "source": [
    "The spectra have a poor signal-to-noise ratio. Noise reduction can be done by using Principal Component Analysis (PCA). This is beyond the scope of this demo, as PCA also can introduce artifacts."
   ]
  },
  {
   "cell_type": "markdown",
   "metadata": {},
   "source": [
    "# Generate synthetic zero peak for low-loss signal (if lacking)\n",
    "In the model-based approach, the low-loss signal can be convolved with the high-loss signal such that the energy spread of the electron beam and plural scattering is taken into account. This will give better model. In addition, the experimental zero loss peak can be used to precisely calibrate the energy scale. If you have recorded a low-loss signal, you can skip this part and go directly to the generation of the background model.\n",
    "\n",
    "Unfortunately, in our example the low-loss signal was not recorded. Therefore, we generate a zero loss peak by creating a Gaussian model component with a given fwhm (equivalent to the energy spread) and a low loss signal with the same spatial dimensions as the high-loss EELS signal. This is the second best option, after of course having a real low-loss signal."
   ]
  },
  {
   "cell_type": "code",
   "execution_count": null,
   "metadata": {
    "collapsed": true
   },
   "outputs": [],
   "source": [
    "g = hs.model.components1D.Gaussian(A=1., centre=0.) #Zero loss peak\n",
    "g.fwhm = 5"
   ]
  },
  {
   "cell_type": "markdown",
   "metadata": {},
   "source": [
    "The zero-loss signal `s_zlg` can be generated as follows. This synthetic signal accounts for the energy spread of the electron beam, but not plural scattering as would with a recorded low-loss signal."
   ]
  },
  {
   "cell_type": "code",
   "execution_count": null,
   "metadata": {},
   "outputs": [],
   "source": [
    "x = s_eels.axes_manager.navigation_axes[0].size\n",
    "y = s_eels.axes_manager.navigation_axes[1].size\n",
    "a = g.function(np.arange(-50, 200, 1)) #low-loss signal, from - 50 to 200 eV with 1 eV step size\n",
    "b =  []\n",
    "for i in range(y):\n",
    "\tbj = []\n",
    "\tfor i in range(x):\n",
    "\t\tbj.append(a)\n",
    "\tb.append(bj)\n",
    "c = np.asarray(b)\n",
    "s_zlg = hs.signals.EELSSpectrum(c)\n",
    "s_zlg.axes_manager.signal_axes[0].offset = -50.\n",
    "s_zlg.plot()"
   ]
  },
  {
   "cell_type": "markdown",
   "metadata": {},
   "source": [
    "# <a id='background'></a>2. Find and subtract the background"
   ]
  },
  {
   "cell_type": "markdown",
   "metadata": {},
   "source": [
    "The background of the high-loss signal is found by fitting a power law to the signal. If you have recorded a low-loss signal, load it now and insert it in the model rather than the constructed version"
   ]
  },
  {
   "cell_type": "code",
   "execution_count": null,
   "metadata": {
    "collapsed": true
   },
   "outputs": [],
   "source": [
    "bm = s_eels.create_model(ll=s_zlg) #ll=low-loss signal or constructed zero-loss signal. \n",
    "bm.set_signal_range(750., 915.) #Cu-edge starts at 931 eV"
   ]
  },
  {
   "cell_type": "markdown",
   "metadata": {},
   "source": [
    "As there are large variations in intensity across the sample, the background is best fitted by giving constraints such as boundary conditions and initial vaules. The following constraints are found to work well on the dataset used in this tutorial."
   ]
  },
  {
   "cell_type": "code",
   "execution_count": null,
   "metadata": {},
   "outputs": [],
   "source": [
    "bm.components"
   ]
  },
  {
   "cell_type": "code",
   "execution_count": null,
   "metadata": {
    "collapsed": true
   },
   "outputs": [],
   "source": [
    "p = bm.components.PowerLaw\n",
    "p.A.value = 100000000000.\n",
    "p.A.bmin = 10000000000.\n",
    "p.A.bmax = 1000000000000.\n",
    "p.r.value = 2.8\n",
    "p.r.bmin = 2.5\n",
    "p.r.bmax = 3.1\n",
    "bm.components.PowerLaw.A.assign_current_value_to_all() #sets the value to all the probe positions points (navigation dimension).\n",
    "bm.components.PowerLaw.r.assign_current_value_to_all()"
   ]
  },
  {
   "cell_type": "code",
   "execution_count": null,
   "metadata": {},
   "outputs": [],
   "source": [
    "bm.multifit(fitter='leastsq', bounded=True)\n",
    "bm.reset_signal_range()"
   ]
  },
  {
   "cell_type": "markdown",
   "metadata": {},
   "source": [
    "We now plot the signal and the fitted background model, to see the quality of the fit. Go specifically to point (31,14), where there is a clear copper and zinc edge. "
   ]
  },
  {
   "cell_type": "code",
   "execution_count": null,
   "metadata": {},
   "outputs": [],
   "source": [
    "bm.plot() #Check point (31, 14)"
   ]
  },
  {
   "cell_type": "markdown",
   "metadata": {},
   "source": [
    "The background fits nicely to most of the image, but in vacuum the fitting is not as good (naturally). A trace non-quantifiable Ni-component at about 850 eV also makes the background fitting more challenging."
   ]
  },
  {
   "cell_type": "markdown",
   "metadata": {},
   "source": [
    "Let's see how the signal looks like with the background removed."
   ]
  },
  {
   "cell_type": "code",
   "execution_count": null,
   "metadata": {},
   "outputs": [],
   "source": [
    "s1_eels = s_eels - bm.as_signal()\n",
    "s1_eels.plot()"
   ]
  },
  {
   "cell_type": "markdown",
   "metadata": {},
   "source": [
    "# <a id='fitting'></a>3. Fitting Cu and Zn components to the spectrum"
   ]
  },
  {
   "cell_type": "markdown",
   "metadata": {},
   "source": [
    "A new model consiting of Cu and Zn Hartree-Slater cross sections will be created. For this to work, Hartree-Slater GOS files must configured in HyperSpy."
   ]
  },
  {
   "cell_type": "markdown",
   "metadata": {},
   "source": [
    "The path to these cross sections must be set in the preferences, under the EELS tab"
   ]
  },
  {
   "cell_type": "code",
   "execution_count": null,
   "metadata": {},
   "outputs": [],
   "source": [
    "hs.preferences.gui()"
   ]
  },
  {
   "cell_type": "markdown",
   "metadata": {},
   "source": [
    "Next, the experimental microscope parameters is set, and the model is created"
   ]
  },
  {
   "cell_type": "code",
   "execution_count": null,
   "metadata": {
    "collapsed": true
   },
   "outputs": [],
   "source": [
    "s1_eels.set_microscope_parameters(beam_energy=200, convergence_angle=13.33, collection_angle=55.28) \n",
    "s1_eels.add_elements(('Cu', 'Zn')) \n",
    "#Adding Hartree Slater cross sections. For this to work, H-S GOS must be installed.\n",
    "m = s1_eels.create_model(ll=s_zlg, auto_background=False)\n",
    "#Background is already subtracted, so this can be set to False."
   ]
  },
  {
   "cell_type": "code",
   "execution_count": null,
   "metadata": {},
   "outputs": [],
   "source": [
    "m.components"
   ]
  },
  {
   "cell_type": "markdown",
   "metadata": {},
   "source": [
    "Due to the varying and low signal strength, some initial parameters and boundaries are set to ensure successful fitting. "
   ]
  },
  {
   "cell_type": "code",
   "execution_count": null,
   "metadata": {
    "collapsed": true
   },
   "outputs": [],
   "source": [
    "m.components.Cu_L3.onset_energy.value = 931\n",
    "m.components.Zn_L3.onset_energy.value = 1020\n",
    "m.components.Zn_L3.intensity.bmin = 0 # lower boundary value (negative values are non-physical)\n",
    "m.components.Zn_L3.intensity.value = 60 # initial value\n",
    "m.components.Zn_L3.intensity.assign_current_value_to_all() # sets these values to all the scanning points.\n",
    "m.components.Cu_L3.intensity.bmin = 0\n",
    "m.components.Cu_L3.intensity.value = 60\n",
    "m.components.Cu_L3.intensity.assign_current_value_to_all()"
   ]
  },
  {
   "cell_type": "markdown",
   "metadata": {},
   "source": [
    "We first fit the copper components, as it appears in front of the Zn component. Only the Cu component must then be active, and the signal range is set to a region where only Cu appears."
   ]
  },
  {
   "cell_type": "code",
   "execution_count": null,
   "metadata": {},
   "outputs": [],
   "source": [
    "#Fitting Cu component first\n",
    "m.components.Cu_L1.active = True\n",
    "m.components.Cu_L2.active = True\n",
    "m.components.Cu_L3.active = True\n",
    "m.components.Zn_L1.active = False\n",
    "m.components.Zn_L2.active = False\n",
    "m.components.Zn_L3.active = False\n",
    "\n",
    "m.set_signal_range(900., 1000.)\n",
    "m.multifit(fitter='leastsq', bounded=True) #Using bounded fitting"
   ]
  },
  {
   "cell_type": "markdown",
   "metadata": {},
   "source": [
    "After fitting Cu, the parameters locked for the Cu-components, and the Zn-components are set to active. Now Zn will be fitted, while the Cu component is constant."
   ]
  },
  {
   "cell_type": "code",
   "execution_count": null,
   "metadata": {},
   "outputs": [],
   "source": [
    "#Zn fitting\n",
    "m.components.Cu_L3.intensity.free = False\n",
    "\n",
    "m.set_signal_range(1000., 1300.)\n",
    "m.components.Zn_L1.active = True\n",
    "m.components.Zn_L2.active = True\n",
    "m.components.Zn_L3.active = True\n",
    "\n",
    "m.multifit(fitter='leastsq', bounded=True)"
   ]
  },
  {
   "cell_type": "markdown",
   "metadata": {},
   "source": [
    "Lastly, the components are fitted together over the whole energy range."
   ]
  },
  {
   "cell_type": "code",
   "execution_count": null,
   "metadata": {},
   "outputs": [],
   "source": [
    "m.components.Cu_L3.intensity.free = True\n",
    "m.reset_signal_range()\n",
    "m.multifit(fitter='leastsq', bounded=True)"
   ]
  },
  {
   "cell_type": "markdown",
   "metadata": {},
   "source": [
    "Let's see the results. Go to the region around (32,14), where there clearly is copper or zinc of some kind."
   ]
  },
  {
   "cell_type": "code",
   "execution_count": null,
   "metadata": {},
   "outputs": [],
   "source": [
    "m.plot(plot_components=True)"
   ]
  },
  {
   "cell_type": "markdown",
   "metadata": {},
   "source": [
    "# 4. <a id='save_restore'></a>Saving and restoring the models"
   ]
  },
  {
   "cell_type": "markdown",
   "metadata": {},
   "source": [
    "As the fitting process can be slow, saving the models can be a good idea."
   ]
  },
  {
   "cell_type": "code",
   "execution_count": null,
   "metadata": {
    "collapsed": true
   },
   "outputs": [],
   "source": [
    "m.save('model', overwrite=True)"
   ]
  },
  {
   "cell_type": "markdown",
   "metadata": {},
   "source": [
    "The model can be loaded and restored."
   ]
  },
  {
   "cell_type": "code",
   "execution_count": null,
   "metadata": {
    "collapsed": true
   },
   "outputs": [],
   "source": [
    "mr = hs.load('model.hspy')\n",
    "mr = mr.models.restore('a')"
   ]
  },
  {
   "cell_type": "markdown",
   "metadata": {},
   "source": [
    " Models can also be stored as spectrums. Currently, all components are active, so `ms` will be the sum of all components."
   ]
  },
  {
   "cell_type": "code",
   "execution_count": null,
   "metadata": {},
   "outputs": [],
   "source": [
    "ms = mr.as_signal()\n",
    "ms.save('model_spectrum', overwrite=True)"
   ]
  },
  {
   "cell_type": "markdown",
   "metadata": {},
   "source": [
    "To save the Cu model separately, set Zn components not active."
   ]
  },
  {
   "cell_type": "code",
   "execution_count": null,
   "metadata": {},
   "outputs": [],
   "source": [
    "mr.components.Zn_L1.active = False\n",
    "mr.components.Zn_L2.active = False\n",
    "mr.components.Zn_L3.active = False\n",
    "m_cu = mr.as_signal()\n",
    "m_cu.save('m_cu', overwrite=True)"
   ]
  },
  {
   "cell_type": "markdown",
   "metadata": {
    "collapsed": true
   },
   "source": [
    "# 5. <a id='plotting'></a>Make maps"
   ]
  },
  {
   "cell_type": "markdown",
   "metadata": {},
   "source": [
    "In this section, elemental maps will be made from the intensity of the Cu-L$_3$ and Zn-L$_3$ components saved above. The required libraries and data files are loaded. The HAADF image will also be plotted, for comparision with the elemental distribution."
   ]
  },
  {
   "cell_type": "code",
   "execution_count": null,
   "metadata": {
    "collapsed": true
   },
   "outputs": [],
   "source": [
    "import matplotlib.pyplot as plt\n",
    "import matplotlib.gridspec as gridspec\n",
    "from mpl_toolkits.axes_grid1.anchored_artists import AnchoredSizeBar\n",
    "import matplotlib.font_manager as fm\n",
    "import numpy as np"
   ]
  },
  {
   "cell_type": "code",
   "execution_count": null,
   "metadata": {
    "collapsed": true
   },
   "outputs": [],
   "source": [
    "m = hs.load('model.hspy')\n",
    "mr = m.models.restore('a')"
   ]
  },
  {
   "cell_type": "code",
   "execution_count": null,
   "metadata": {
    "collapsed": true
   },
   "outputs": [],
   "source": [
    "s_copper = mr.components.Cu_L3.intensity.as_signal()\n",
    "s_zinc = mr.components.Zn_L3.intensity.as_signal()\n",
    "s_haadf = hs.load('tutorial_elemental_mapping_datasets/HAADF.hspy').as_signal2D((0, 1))"
   ]
  },
  {
   "cell_type": "markdown",
   "metadata": {},
   "source": [
    "Gridspec is a convenient function to use when creating several subplots. We create axes for the elemental maps, HAADF signal as well as the color-bars that will be used indicate the numerical intensity."
   ]
  },
  {
   "cell_type": "code",
   "execution_count": null,
   "metadata": {},
   "outputs": [],
   "source": [
    "fig = plt.figure(figsize=(6, 2.7))\n",
    "gs = gridspec.GridSpec(30, 3)\n",
    "ax_cu = fig.add_subplot(gs[0:-1, 0])\n",
    "ax_zn = fig.add_subplot(gs[0:-1, 1])\n",
    "ax_haadf = fig.add_subplot(gs[0:-1, 2])\n",
    "cbar_cu =  fig.add_subplot(gs[-1, 0]) #Colorbars are much thinner than the map axes (1/30 of the height of the image)\n",
    "cbar_zn =  fig.add_subplot(gs[-1, 1])\n",
    "cbar_haadf =  fig.add_subplot(gs[-1, 2])"
   ]
  },
  {
   "cell_type": "markdown",
   "metadata": {},
   "source": [
    "The signals can be plotted by using imshow. Origin and extent can be changed to alter the ..."
   ]
  },
  {
   "cell_type": "code",
   "execution_count": null,
   "metadata": {
    "collapsed": true
   },
   "outputs": [],
   "source": [
    "cax_cu = ax_cu.imshow(\n",
    "\ts_copper.data,\n",
    "\tinterpolation='nearest',\n",
    "\torigin='lower',\n",
    "\textent=s_copper.axes_manager.signal_extent\n",
    ")"
   ]
  },
  {
   "cell_type": "code",
   "execution_count": null,
   "metadata": {
    "collapsed": true
   },
   "outputs": [],
   "source": [
    "cax_zn = ax_zn.imshow(\n",
    "\ts_zinc.data,\n",
    "\tinterpolation='nearest',\n",
    "\torigin='lower',\n",
    "\textent=s_zinc.axes_manager.signal_extent\n",
    ")"
   ]
  },
  {
   "cell_type": "markdown",
   "metadata": {},
   "source": [
    "NumPy functions, such as `flipud`, `fliplr` and `rot90` can also be used to give the image the correct orientation. Here,`flipud` is used to give the HAADF image the same orientation as the elemental maps."
   ]
  },
  {
   "cell_type": "code",
   "execution_count": null,
   "metadata": {},
   "outputs": [],
   "source": [
    "ax_haadf.imshow(\n",
    "\tnp.flipud(s_haadf.data),\n",
    "\tinterpolation='nearest',\n",
    "\torigin='upper',\n",
    "\textent=s_haadf.axes_manager.signal_extent\n",
    ")"
   ]
  },
  {
   "cell_type": "markdown",
   "metadata": {},
   "source": [
    "Disable axis ticks"
   ]
  },
  {
   "cell_type": "code",
   "execution_count": null,
   "metadata": {},
   "outputs": [],
   "source": [
    "ax_haadf.set_xticks([])\n",
    "ax_cu.set_xticks([])\n",
    "ax_zn.set_xticks([])\n",
    "ax_zn.set_yticks([])\n",
    "ax_cu.set_yticks([])\n",
    "ax_haadf.set_yticks([])"
   ]
  },
  {
   "cell_type": "markdown",
   "metadata": {},
   "source": [
    "Scalebars can be added by using AnchoredSizeBar. "
   ]
  },
  {
   "cell_type": "code",
   "execution_count": null,
   "metadata": {},
   "outputs": [],
   "source": [
    "fontprops = fm.FontProperties(size=18)\n",
    "scalebar0 = AnchoredSizeBar(\n",
    "        ax_cu.transData,\n",
    "        5, '5 nm', 1, # length of bar, label, loc\n",
    "        pad=0.1,\n",
    "        color='white',\n",
    "        frameon=False,\n",
    "        size_vertical=0.6,\n",
    "        fontproperties=fontprops)\n",
    "scalebar1 = AnchoredSizeBar(\n",
    "        ax_cu.transData,\n",
    "        5, '5 nm', 1,\n",
    "        pad=0.1,\n",
    "        color='white',\n",
    "        frameon=False,\n",
    "        size_vertical=0.6,\n",
    "        fontproperties=fontprops)\n",
    "scalebar2 = AnchoredSizeBar(\n",
    "        ax_cu.transData,\n",
    "        5, '5 nm', 1,\n",
    "        pad=0.1,\n",
    "        color='white',\n",
    "        frameon=False,\n",
    "        size_vertical=0.6,\n",
    "        fontproperties=fontprops)\n",
    "ax_cu.add_artist(scalebar0)\n",
    "ax_zn.add_artist(scalebar1)\n",
    "ax_haadf.add_artist(scalebar2)"
   ]
  },
  {
   "cell_type": "markdown",
   "metadata": {},
   "source": [
    "The color schemes viridis, inferno, plasma and magma are nice to use as they are grayscale compatible, perceptually uniform and colorblind-proof. For more info on these color maps, see https://www.youtube.com/watch?v=xAoljeRJ3lU"
   ]
  },
  {
   "cell_type": "code",
   "execution_count": null,
   "metadata": {
    "collapsed": true
   },
   "outputs": [],
   "source": [
    "cax_zn.set_clim(vmin=0, vmax=30)\n",
    "cax_zn.set_cmap('inferno')\n",
    "cax_cu.set_clim(vmin=0, vmax=21)\n",
    "cax_cu.set_cmap('viridis')"
   ]
  },
  {
   "cell_type": "markdown",
   "metadata": {},
   "source": [
    "We add labels to indicate what shown is in each image."
   ]
  },
  {
   "cell_type": "code",
   "execution_count": null,
   "metadata": {},
   "outputs": [],
   "source": [
    "ax_cu.text(0.05,0.05, 'Cu', color='white', size=18, transform=ax_cu.transAxes)\n",
    "ax_zn.text(0.05,0.05, 'Zn', color='white', size=18, transform=ax_zn.transAxes)\n",
    "ax_haadf.text(0.05,0.05, 'HAADF', color='white', size=18, transform=ax_haadf.transAxes)"
   ]
  },
  {
   "cell_type": "markdown",
   "metadata": {},
   "source": [
    "Lastly, the colorbars are added. "
   ]
  },
  {
   "cell_type": "code",
   "execution_count": null,
   "metadata": {
    "collapsed": true
   },
   "outputs": [],
   "source": [
    "cb_zn = fig.colorbar(ax_zn.images[0], cax=cbar_zn, extend='both', orientation='horizontal')  \n",
    "cb_cu = fig.colorbar(ax_cu.images[0], cax=cbar_cu,extend='both', orientation='horizontal')  \n",
    "cb_haadf = fig.colorbar(ax_haadf.images[0], cax=cbar_haadf, extend='both', orientation='horizontal')"
   ]
  },
  {
   "cell_type": "code",
   "execution_count": null,
   "metadata": {
    "collapsed": true
   },
   "outputs": [],
   "source": [
    "cb_cu.set_ticks([0, 10, 20, 30, 40])\n",
    "cb_zn.set_ticks([0, 15, 30, 45, 60])\n",
    "cb_haadf.set_ticks([0, 1000, 2000])"
   ]
  },
  {
   "cell_type": "code",
   "execution_count": null,
   "metadata": {
    "collapsed": true
   },
   "outputs": [],
   "source": [
    "gs.update(hspace=0.02, wspace=0.02)"
   ]
  },
  {
   "cell_type": "markdown",
   "metadata": {},
   "source": [
    "Saving the matplotlib figure object as a png-file"
   ]
  },
  {
   "cell_type": "code",
   "execution_count": null,
   "metadata": {
    "collapsed": true
   },
   "outputs": [],
   "source": [
    "fig.savefig(\"elemental_map.png\", dpi=300)"
   ]
  }
 ],
 "metadata": {
  "kernelspec": {
   "display_name": "Python 3",
   "language": "python",
   "name": "python3"
  },
  "language_info": {
   "codemirror_mode": {
    "name": "ipython",
    "version": 3
   },
   "file_extension": ".py",
   "mimetype": "text/x-python",
   "name": "python",
   "nbconvert_exporter": "python",
   "pygments_lexer": "ipython3",
   "version": "3.5.3"
  }
 },
 "nbformat": 4,
 "nbformat_minor": 2
}
