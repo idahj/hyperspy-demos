{
 "cells": [
  {
   "cell_type": "markdown",
   "metadata": {},
   "source": [
    "# Creating and plotting elemental maps\n",
    "\n",
    "In this tutorial, elemental maps of copper and zinc will be created from electron energy loss spectra (EELS). The data is recorded using a sample of copper and zinc oxide deposited on carbon nanotubes. The particles are likely to be very small, and the carbon is not completely covered. In this sample, the ratio of Zn and Cu is 3:1, and approximately 80 wt% of the sample is carbon. Due to the small amount of copper and zinc, the signal strength is low. To improve the signal strength without lowering the spatial resolution, the spectra were recorded with a high energy dispersion, resulting in low energy resolution. This means that any fine structure is not visible, and Hartree-Slater cross sections will be used to fit Cu and Zn. \n",
    "\n",
    "For more information about the material system and how the results of this processing can be used, see the paper: https://doi.org/10.1016/j.cattod.2019.02.045\n",
    "\n",
    "This notebook requires HyperSpy 1.5 or higher.\n",
    "\n",
    "The main objective is to show how the functionality of HyperSpy can be used to create elemental maps from EEL spectra.\n",
    "\n"
   ]
  },
  {
   "cell_type": "markdown",
   "metadata": {},
   "source": [
    "### Changes\n",
    "\n",
    "* 2017/09/27: Initial version by Ida Hjorth\n",
    "* 2019/11/14: Update to HyperSpy 1.5, and minor improvements to text by Magnus Nord"
   ]
  },
  {
   "cell_type": "markdown",
   "metadata": {},
   "source": [
    "### Table of contents"
   ]
  },
  {
   "cell_type": "markdown",
   "metadata": {},
   "source": [
    "1. <a href='#load'> Load data</a> \n",
    "2. <a href='#background'> Background removal</a>\n",
    "3. <a href='#fitting'>Fitting Cu and Zn Hartree-Slater cross sections</a>\n",
    "4. <a href='#save_restore'>Saving and restoring the model</a>\n",
    "5. <a href='#plotting'>Creating elemental maps from the model</a>"
   ]
  },
  {
   "cell_type": "markdown",
   "metadata": {},
   "source": [
    "# <a id='load'></a>1. Load data"
   ]
  },
  {
   "cell_type": "code",
   "execution_count": null,
   "metadata": {},
   "outputs": [],
   "source": [
    "%matplotlib notebook\n",
    "import numpy as np\n",
    "import hyperspy.api as hs"
   ]
  },
  {
   "cell_type": "code",
   "execution_count": null,
   "metadata": {},
   "outputs": [],
   "source": [
    "s_eels = hs.load('datasets/CuZn_EELS_mapping_tutorial.hspy')"
   ]
  },
  {
   "cell_type": "markdown",
   "metadata": {},
   "source": [
    "Making elemental maps for this map is a bit tricky, due to the fairly weak edges, and the overlap between the Cu and Zn edges."
   ]
  },
  {
   "cell_type": "code",
   "execution_count": null,
   "metadata": {},
   "outputs": [],
   "source": [
    "s_eels.plot()"
   ]
  },
  {
   "cell_type": "markdown",
   "metadata": {},
   "source": [
    "# Generate synthetic zero loss peak for low-loss signal (if lacking)\n",
    "\n",
    "In the model-based approach, the low-loss signal can be convolved with the high-loss signal such that the energy spread of the electron beam and plural scattering is taken into account. This will lead to a better fit of the model to the experimental data. In addition, the experimental zero loss peak can be used to precisely calibrate the energy scale. If you have recorded a low-loss signal, you can skip this part and go directly to the generation of the background model.\n",
    "\n",
    "Unfortunately, in our example the low-loss signal was not recorded. Since the core loss components we'll be fitting to data have sharp onsets and sharp features, we make a synthetic low loss signal to take into account the energy spread of the beam.\n",
    "\n",
    "We give this Gaussian component a full width at half maximum (FWHM) equivalent to approximately the energy spread of the beam, acquired at a fairly high spectrometer dispersion (~4 eV)\n",
    "and a low loss signal with the same spatial dimensions as the high-loss EELS signal. This is the second best option, after of course having a real low-loss signal."
   ]
  },
  {
   "cell_type": "code",
   "execution_count": null,
   "metadata": {},
   "outputs": [],
   "source": [
    "g = hs.model.components1D.Gaussian(A=1., centre=0.) # Zero loss peak\n",
    "g.fwhm = 5"
   ]
  },
  {
   "cell_type": "markdown",
   "metadata": {},
   "source": [
    "The zero-loss signal `s_zlg` can be generated as follows. This synthetic signal accounts for the energy spread of the electron beam, but not plural scattering as would with a recorded low-loss signal."
   ]
  },
  {
   "cell_type": "code",
   "execution_count": null,
   "metadata": {},
   "outputs": [],
   "source": [
    "energy_axis = np.arange(-50, 200, 1)\n",
    "shape = (s_eels.axes_manager.navigation_axes[1].size, s_eels.axes_manager.navigation_axes[0].size, len(energy_axis))\n",
    "lowloss = np.zeros(shape)\n",
    "lowloss[:, :] = g.function(energy_axis)\n",
    "s_zlg = hs.signals.EELSSpectrum(lowloss)\n",
    "s_zlg.axes_manager.signal_axes[0].offset = -50"
   ]
  },
  {
   "cell_type": "markdown",
   "metadata": {},
   "source": [
    "# <a id='background'></a>2. Find and subtract the background"
   ]
  },
  {
   "cell_type": "markdown",
   "metadata": {},
   "source": [
    "The background of the high-loss signal is found by fitting a power law to the signal. If you have recorded a low-loss signal, load it now and insert it in the model rather than the constructed version"
   ]
  },
  {
   "cell_type": "code",
   "execution_count": null,
   "metadata": {},
   "outputs": [],
   "source": [
    "bm = s_eels.create_model(ll=s_zlg) # ll=low-loss signal or constructed zero-loss signal\n",
    "bm.set_signal_range(750., 915.) # Cu-edge starts at 931 eV"
   ]
  },
  {
   "cell_type": "markdown",
   "metadata": {},
   "source": [
    "As there are large variations in intensity across the sample, the background is best fitted by giving constraints such as boundary conditions and initial values. The following constraints are found to work well on the dataset used in this tutorial."
   ]
  },
  {
   "cell_type": "code",
   "execution_count": null,
   "metadata": {},
   "outputs": [],
   "source": [
    "bm.components"
   ]
  },
  {
   "cell_type": "code",
   "execution_count": null,
   "metadata": {},
   "outputs": [],
   "source": [
    "p = bm.components.PowerLaw\n",
    "p.A.value = 100000000000.\n",
    "p.A.bmin = 10000000000.\n",
    "p.A.bmax = 1000000000000.\n",
    "p.r.value = 2.8\n",
    "p.r.bmin = 2.5\n",
    "p.r.bmax = 3.1\n",
    "bm.components.PowerLaw.A.assign_current_value_to_all() # Sets the value to all the probe positions points (navigation dimension).\n",
    "bm.components.PowerLaw.r.assign_current_value_to_all()"
   ]
  },
  {
   "cell_type": "code",
   "execution_count": null,
   "metadata": {},
   "outputs": [],
   "source": [
    "bm.multifit(fitter='leastsq', bounded=True)\n",
    "bm.reset_signal_range()"
   ]
  },
  {
   "cell_type": "markdown",
   "metadata": {},
   "source": [
    "We now plot the signal and the fitted background model, to see the quality of the fit. Go specifically to point `(31, 14)`, where there is a clear copper and zinc edge. "
   ]
  },
  {
   "cell_type": "code",
   "execution_count": null,
   "metadata": {},
   "outputs": [],
   "source": [
    "bm.plot() # Check point (31, 14)"
   ]
  },
  {
   "cell_type": "markdown",
   "metadata": {},
   "source": [
    "The background fits nicely to most of the image, but in vacuum the fitting is not as good (naturally). A trace non-quantifiable Ni-component at about 850 eV also makes the background fitting more challenging."
   ]
  },
  {
   "cell_type": "markdown",
   "metadata": {},
   "source": [
    "Let's see how the signal looks like with the background removed."
   ]
  },
  {
   "cell_type": "code",
   "execution_count": null,
   "metadata": {
    "scrolled": true
   },
   "outputs": [],
   "source": [
    "s1_eels = s_eels - bm.as_signal()\n",
    "s1_eels.plot()"
   ]
  },
  {
   "cell_type": "markdown",
   "metadata": {},
   "source": [
    "# <a id='fitting'></a>3. Fitting Cu and Zn components to the spectrum"
   ]
  },
  {
   "cell_type": "markdown",
   "metadata": {},
   "source": [
    "A new model consisting of Cu and Zn Hartree-Slater cross sections will be created. For this to work, Hartree-Slater GOS files must configured in HyperSpy."
   ]
  },
  {
   "cell_type": "markdown",
   "metadata": {},
   "source": [
    "The path to these cross sections must be set in the preferences, under the EELS tab"
   ]
  },
  {
   "cell_type": "code",
   "execution_count": null,
   "metadata": {},
   "outputs": [],
   "source": [
    "hs.preferences.gui()"
   ]
  },
  {
   "cell_type": "markdown",
   "metadata": {},
   "source": [
    "Next, the experimental microscope parameters is set, and the model is created. Since the background already has been removed, we use `auto_background=False` when creating the model."
   ]
  },
  {
   "cell_type": "code",
   "execution_count": null,
   "metadata": {},
   "outputs": [],
   "source": [
    "s1_eels.set_microscope_parameters(beam_energy=200, convergence_angle=13.33, collection_angle=55.28) \n",
    "s1_eels.add_elements(('Cu', 'Zn')) \n",
    "# Adding Hartree Slater cross sections. For this to work, H-S GOS must be installed.\n",
    "m = s1_eels.create_model(ll=s_zlg, auto_background=False)"
   ]
  },
  {
   "cell_type": "code",
   "execution_count": null,
   "metadata": {},
   "outputs": [],
   "source": [
    "m.components"
   ]
  },
  {
   "cell_type": "markdown",
   "metadata": {},
   "source": [
    "Due to the varying and low signal strength, some initial parameters and boundaries are set to ensure successful fitting. "
   ]
  },
  {
   "cell_type": "code",
   "execution_count": null,
   "metadata": {},
   "outputs": [],
   "source": [
    "m.components.Cu_L3.onset_energy.value = 931\n",
    "m.components.Zn_L3.onset_energy.value = 1020\n",
    "m.components.Zn_L3.intensity.bmin = 0 # lower boundary value (negative values are non-physical)\n",
    "m.components.Zn_L3.intensity.value = 60 # initial value\n",
    "m.components.Zn_L3.intensity.assign_current_value_to_all() # sets these values to all the scanning points.\n",
    "m.components.Cu_L3.intensity.bmin = 0\n",
    "m.components.Cu_L3.intensity.value = 60\n",
    "m.components.Cu_L3.intensity.assign_current_value_to_all()"
   ]
  },
  {
   "cell_type": "markdown",
   "metadata": {},
   "source": [
    "We first fit the copper components, as it appears in front of the Zn component. Only the Cu component must then be active, and the signal range is set to a region where only Cu appears."
   ]
  },
  {
   "cell_type": "code",
   "execution_count": null,
   "metadata": {},
   "outputs": [],
   "source": [
    "# Fitting Cu component first\n",
    "m.components.Cu_L1.active = True\n",
    "m.components.Cu_L2.active = True\n",
    "m.components.Cu_L3.active = True\n",
    "m.components.Zn_L1.active = False\n",
    "m.components.Zn_L2.active = False\n",
    "m.components.Zn_L3.active = False\n",
    "\n",
    "m.set_signal_range(900., 1000.)\n",
    "m.multifit(fitter='leastsq', bounded=True) #Using bounded fitting"
   ]
  },
  {
   "cell_type": "markdown",
   "metadata": {},
   "source": [
    "Now we lock the parameters for the Cu components, and set the Zn components to active. \n",
    "\n",
    "Allowing for the Zn to be fitted, while the Cu components remains constant."
   ]
  },
  {
   "cell_type": "code",
   "execution_count": null,
   "metadata": {},
   "outputs": [],
   "source": [
    "# Zn fitting\n",
    "m.components.Cu_L3.intensity.free = False\n",
    "\n",
    "m.set_signal_range(1000., 1300.)\n",
    "m.components.Zn_L1.active = True\n",
    "m.components.Zn_L2.active = True\n",
    "m.components.Zn_L3.active = True\n",
    "\n",
    "m.multifit(fitter='leastsq', bounded=True)"
   ]
  },
  {
   "cell_type": "markdown",
   "metadata": {},
   "source": [
    "Lastly, the both the Cu and Zn components are fitted together over the whole energy range."
   ]
  },
  {
   "cell_type": "code",
   "execution_count": null,
   "metadata": {},
   "outputs": [],
   "source": [
    "m.components.Cu_L3.intensity.free = True\n",
    "m.reset_signal_range()\n",
    "m.multifit(fitter='leastsq', bounded=True)"
   ]
  },
  {
   "cell_type": "markdown",
   "metadata": {},
   "source": [
    "Let's see the results. Go to the region around `(32, 14)`, where there clearly is copper or zinc of some kind."
   ]
  },
  {
   "cell_type": "code",
   "execution_count": null,
   "metadata": {},
   "outputs": [],
   "source": [
    "m.plot(plot_components=True)"
   ]
  },
  {
   "cell_type": "markdown",
   "metadata": {},
   "source": [
    "# 4. <a id='save_restore'></a>Saving and restoring the models"
   ]
  },
  {
   "cell_type": "markdown",
   "metadata": {},
   "source": [
    "As the fitting process can be slow, saving the models can be a good idea. "
   ]
  },
  {
   "cell_type": "code",
   "execution_count": null,
   "metadata": {},
   "outputs": [],
   "source": [
    "m.save('model.hspy', overwrite=True)"
   ]
  },
  {
   "cell_type": "markdown",
   "metadata": {},
   "source": [
    "This results in a file called `model.hspy`, which can be loaded and restored."
   ]
  },
  {
   "cell_type": "code",
   "execution_count": null,
   "metadata": {},
   "outputs": [],
   "source": [
    "mr = hs.load('model.hspy')\n",
    "mr = mr.models.restore('a')"
   ]
  },
  {
   "cell_type": "markdown",
   "metadata": {
    "collapsed": true
   },
   "source": [
    "# 5. <a id='plotting'></a>Make maps"
   ]
  },
  {
   "cell_type": "markdown",
   "metadata": {},
   "source": [
    "In this section, elemental maps will be plotted from the intensity of the model of the Cu-L$_3$ and Zn-L$_3$ components saved above. The HAADF image will also be plotted, for comparison with the elemental distribution."
   ]
  },
  {
   "cell_type": "code",
   "execution_count": null,
   "metadata": {},
   "outputs": [],
   "source": [
    "import numpy as np\n",
    "import matplotlib.pyplot as plt\n",
    "import matplotlib.gridspec as gridspec\n",
    "from mpl_toolkits.axes_grid1.anchored_artists import AnchoredSizeBar\n",
    "import matplotlib.font_manager as fm"
   ]
  },
  {
   "cell_type": "code",
   "execution_count": null,
   "metadata": {},
   "outputs": [],
   "source": [
    "m = hs.load('model.hspy')\n",
    "mr = m.models.restore('a')"
   ]
  },
  {
   "cell_type": "code",
   "execution_count": null,
   "metadata": {},
   "outputs": [],
   "source": [
    "s_copper = mr.components.Cu_L3.intensity.as_signal()\n",
    "s_zinc = mr.components.Zn_L3.intensity.as_signal()\n",
    "s_haadf = hs.load('datasets/CuZn_HAADF.hspy').as_signal2D((0, 1))"
   ]
  },
  {
   "cell_type": "markdown",
   "metadata": {},
   "source": [
    "`GridSpec` is a convenient function to use when creating several subplots. We create axes for the elemental maps, HAADF signal as well as the colorbars that will be used indicate the numerical intensity."
   ]
  },
  {
   "cell_type": "code",
   "execution_count": null,
   "metadata": {},
   "outputs": [],
   "source": [
    "fig = plt.figure(figsize=(6, 2.7))\n",
    "gs = gridspec.GridSpec(30, 3)\n",
    "ax_cu = fig.add_subplot(gs[0:-1, 0])\n",
    "ax_zn = fig.add_subplot(gs[0:-1, 1])\n",
    "ax_haadf = fig.add_subplot(gs[0:-1, 2])\n",
    "cbar_cu =  fig.add_subplot(gs[-1, 0]) # Colorbars are much thinner than the map axes (1/30 of the height of the image)\n",
    "cbar_zn =  fig.add_subplot(gs[-1, 1])\n",
    "cbar_haadf =  fig.add_subplot(gs[-1, 2])"
   ]
  },
  {
   "cell_type": "markdown",
   "metadata": {},
   "source": [
    "The signals can be plotted by using imshow. Origin and extent can be changed to alter the ..."
   ]
  },
  {
   "cell_type": "code",
   "execution_count": null,
   "metadata": {},
   "outputs": [],
   "source": [
    "cax_cu = ax_cu.imshow(\n",
    "    s_copper.data,\n",
    "    interpolation='nearest',\n",
    "    origin='lower',\n",
    "    extent=s_copper.axes_manager.signal_extent\n",
    ")"
   ]
  },
  {
   "cell_type": "code",
   "execution_count": null,
   "metadata": {},
   "outputs": [],
   "source": [
    "cax_zn = ax_zn.imshow(\n",
    "    s_zinc.data,\n",
    "    interpolation='nearest',\n",
    "    origin='lower',\n",
    "    extent=s_zinc.axes_manager.signal_extent\n",
    ")"
   ]
  },
  {
   "cell_type": "markdown",
   "metadata": {},
   "source": [
    "NumPy functions, such as `flipud`, `fliplr` and `rot90` can also be used to give the image the correct orientation. Here,`flipud` is used to give the HAADF image the same orientation as the elemental maps."
   ]
  },
  {
   "cell_type": "code",
   "execution_count": null,
   "metadata": {},
   "outputs": [],
   "source": [
    "ax_haadf.imshow(\n",
    "    np.flipud(s_haadf.data),\n",
    "    interpolation='nearest',\n",
    "    origin='upper',\n",
    "    extent=s_haadf.axes_manager.signal_extent\n",
    ")"
   ]
  },
  {
   "cell_type": "markdown",
   "metadata": {},
   "source": [
    "Disable axis ticks"
   ]
  },
  {
   "cell_type": "code",
   "execution_count": null,
   "metadata": {},
   "outputs": [],
   "source": [
    "ax_haadf.set_xticks([])\n",
    "ax_cu.set_xticks([])\n",
    "ax_zn.set_xticks([])\n",
    "ax_zn.set_yticks([])\n",
    "ax_cu.set_yticks([])\n",
    "ax_haadf.set_yticks([])"
   ]
  },
  {
   "cell_type": "markdown",
   "metadata": {},
   "source": [
    "Scalebars can be added by using AnchoredSizeBar. "
   ]
  },
  {
   "cell_type": "code",
   "execution_count": null,
   "metadata": {},
   "outputs": [],
   "source": [
    "fontprops = fm.FontProperties(size=18)\n",
    "scalebar0 = AnchoredSizeBar(\n",
    "        ax_cu.transData,\n",
    "        5, '5 nm', 1, # length of bar, label, loc\n",
    "        pad=0.1,\n",
    "        color='white',\n",
    "        frameon=False,\n",
    "        size_vertical=0.6,\n",
    "        fontproperties=fontprops)\n",
    "scalebar1 = AnchoredSizeBar(\n",
    "        ax_cu.transData,\n",
    "        5, '5 nm', 1,\n",
    "        pad=0.1,\n",
    "        color='white',\n",
    "        frameon=False,\n",
    "        size_vertical=0.6,\n",
    "        fontproperties=fontprops)\n",
    "scalebar2 = AnchoredSizeBar(\n",
    "        ax_cu.transData,\n",
    "        5, '5 nm', 1,\n",
    "        pad=0.1,\n",
    "        color='white',\n",
    "        frameon=False,\n",
    "        size_vertical=0.6,\n",
    "        fontproperties=fontprops)\n",
    "ax_cu.add_artist(scalebar0)\n",
    "ax_zn.add_artist(scalebar1)\n",
    "ax_haadf.add_artist(scalebar2)"
   ]
  },
  {
   "cell_type": "markdown",
   "metadata": {},
   "source": [
    "The color schemes `viridis`, `inferno`, `plasma` and `magma` are nice to use as they are grayscale compatible, perceptually uniform and colorblind-proof. For more info on these color maps, see https://www.youtube.com/watch?v=xAoljeRJ3lU"
   ]
  },
  {
   "cell_type": "code",
   "execution_count": null,
   "metadata": {},
   "outputs": [],
   "source": [
    "cax_zn.set_clim(vmin=0, vmax=30)\n",
    "cax_zn.set_cmap('inferno')\n",
    "cax_cu.set_clim(vmin=0, vmax=21)\n",
    "cax_cu.set_cmap('viridis')"
   ]
  },
  {
   "cell_type": "markdown",
   "metadata": {},
   "source": [
    "We add labels to indicate what is shown in each image."
   ]
  },
  {
   "cell_type": "code",
   "execution_count": null,
   "metadata": {},
   "outputs": [],
   "source": [
    "ax_cu.text(0.05,0.05, 'Cu', color='white', size=18, transform=ax_cu.transAxes)\n",
    "ax_zn.text(0.05,0.05, 'Zn', color='white', size=18, transform=ax_zn.transAxes)\n",
    "ax_haadf.text(0.05,0.05, 'HAADF', color='white', size=18, transform=ax_haadf.transAxes)"
   ]
  },
  {
   "cell_type": "markdown",
   "metadata": {},
   "source": [
    "Lastly, the colorbars are added. "
   ]
  },
  {
   "cell_type": "code",
   "execution_count": null,
   "metadata": {},
   "outputs": [],
   "source": [
    "cb_zn = fig.colorbar(ax_zn.images[0], cax=cbar_zn, extend='both', orientation='horizontal')  \n",
    "cb_cu = fig.colorbar(ax_cu.images[0], cax=cbar_cu,extend='both', orientation='horizontal')  \n",
    "cb_haadf = fig.colorbar(ax_haadf.images[0], cax=cbar_haadf, extend='both', orientation='horizontal')"
   ]
  },
  {
   "cell_type": "code",
   "execution_count": null,
   "metadata": {},
   "outputs": [],
   "source": [
    "cb_cu.set_ticks([0, 10, 20, 30, 40])\n",
    "cb_zn.set_ticks([0, 15, 30, 45, 60])\n",
    "cb_haadf.set_ticks([0, 1000, 2000])"
   ]
  },
  {
   "cell_type": "code",
   "execution_count": null,
   "metadata": {},
   "outputs": [],
   "source": [
    "gs.update(hspace=0.02, wspace=0.02)"
   ]
  },
  {
   "cell_type": "markdown",
   "metadata": {},
   "source": [
    "Saving the matplotlib figure object as a png-file"
   ]
  },
  {
   "cell_type": "code",
   "execution_count": null,
   "metadata": {},
   "outputs": [],
   "source": [
    "fig.savefig(\"elemental_map.png\", dpi=300)"
   ]
  }
 ],
 "metadata": {
  "kernelspec": {
   "display_name": "Python 3",
   "language": "python",
   "name": "python3"
  },
  "language_info": {
   "codemirror_mode": {
    "name": "ipython",
    "version": 3
   },
   "file_extension": ".py",
   "mimetype": "text/x-python",
   "name": "python",
   "nbconvert_exporter": "python",
   "pygments_lexer": "ipython3",
   "version": "3.7.5"
  }
 },
 "nbformat": 4,
 "nbformat_minor": 2
}
